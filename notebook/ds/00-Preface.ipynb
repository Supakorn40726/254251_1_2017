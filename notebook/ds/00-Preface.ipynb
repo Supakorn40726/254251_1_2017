{
 "cells": [
  {
   "cell_type": "markdown",
   "metadata": {},
   "source": [
    "# โครงสร้างข้อมูลฉบับภาษาไพทอน\n",
    "\n",
    "เอกสารประกอบการสอนรายวิชาโครงสร้างข้อมูลได้ถูกแปล ดัดแปลง และเรียบเรียงจาก [interactivepython](http://interactivepython.org/runestone/static/pythonds/index.html) ดังนั้นจึงมีการนำรูปมาใช้โดยทุกครั้งจะมีการอ้างอิง\n",
    "\n",
    "เรื่องการใช้ภาษา มีเจตนาที่จะใช้ตามหลักของราชบัณฑิต แต่จะมีตัวย่อบางตัวเช่น ADT BST ที่ตั้งใจใช้เพื่อลดความเยิ่นเย้อ ในส่วนของภาษาอังกฤษคำอื่น เช่น list string queue ฯลฯ ล้วนเป็นการอ้างถึงชนิดข้อมูลหรือคลาสของ python หรือคลาสที่สร้างขึ้น หาได้เป็นการใช้ภาษาอังกฤษแทรกในภาษาไทย\n"
   ]
  },
  {
   "cell_type": "code",
   "execution_count": null,
   "metadata": {
    "collapsed": true
   },
   "outputs": [],
   "source": []
  }
 ],
 "metadata": {
  "kernelspec": {
   "display_name": "Python 3",
   "language": "python",
   "name": "python3"
  },
  "language_info": {
   "codemirror_mode": {
    "name": "ipython",
    "version": 3
   },
   "file_extension": ".py",
   "mimetype": "text/x-python",
   "name": "python",
   "nbconvert_exporter": "python",
   "pygments_lexer": "ipython3",
   "version": "3.6.0"
  }
 },
 "nbformat": 4,
 "nbformat_minor": 2
}
